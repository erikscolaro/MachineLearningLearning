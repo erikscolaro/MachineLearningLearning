{
 "cells": [
  {
   "cell_type": "markdown",
   "metadata": {},
   "source": [
    "# Laboratory 1 - Part I (Python)"
   ]
  },
  {
   "cell_type": "markdown",
   "metadata": {},
   "source": [
    "#### Exercise 1 (adapted from Computer Sciences exam 03/09/2012)\n",
    "\n",
    "Write a program able to handle the scores of an artistic gymnastic event. The event scores are contained\n",
    "in a ﬁle whose name is passed from the command line. Every line of the ﬁle contains: the competitor’s\n",
    "name and surname, competitor’s nationality, and the assigned evaluations provided by 5 judges."
   ]
  },
  {
   "cell_type": "code",
   "execution_count": 75,
   "metadata": {},
   "outputs": [
    {
     "name": "stdout",
     "output_type": "stream",
     "text": [
      "1: Donald Duck - Score: 28.7\n",
      "2: Daffy Duck - Score: 27.3\n",
      "3: Mickey Mouse - Score: 27.2\n",
      "ITA - Total score: 55.9\n"
     ]
    }
   ],
   "source": [
    "from typing import List, Tuple\n",
    "from itertools import groupby\n",
    "\n",
    "filename = \"score.txt\"\n",
    "\n",
    "class Athlete:\n",
    "    def __init__(self, name, surname, nationality, scores):\n",
    "        self.name = name\n",
    "        self.surname = surname\n",
    "        self.nationality = nationality\n",
    "        # Convert to float directly\n",
    "        self.scores = [float(score) for score in scores]\n",
    "        # Sort and calculate final score in one pass\n",
    "        sorted_scores = sorted(self.scores)\n",
    "        self.finalScore = sum(sorted_scores[1:-1])\n",
    "    \n",
    "    def __str__(self):\n",
    "        scores_str = \" \".join(map(str, self.scores))\n",
    "        return f\"Athlete name: {self.name}\\tsurname:{self.surname}\\tnationality:{self.nationality}\\tscores:{scores_str}\\tfinal score:{self.finalScore}\"\n",
    "\n",
    "athletes = []\n",
    "\n",
    "try:\n",
    "    with open(filename, \"r\") as file:\n",
    "        for line in file:\n",
    "            parts = line.strip().split(\" \")\n",
    "            name = parts[0]\n",
    "            surname = parts[1]\n",
    "            nationality = parts[2]\n",
    "            scores = parts[3:]\n",
    "            athletes.append(Athlete(name, surname, nationality, scores))\n",
    "except IOError:\n",
    "    print(\"File not found error.\")\n",
    "except Exception as e:\n",
    "    print(f\"An error occurred: {e}\")\n",
    "\n",
    "# Sort and print top 3 athletes\n",
    "athletes.sort(key=lambda x: x.finalScore, reverse=True)\n",
    "for pos, a in enumerate(athletes[:3], start=1):\n",
    "    print(f\"{pos}: {a.name} {a.surname} - Score: {a.finalScore}\")\n",
    "\n",
    "# Calculate points by country more efficiently\n",
    "country_scores = {}\n",
    "for athlete in athletes:\n",
    "    country_scores[athlete.nationality] = country_scores.get(athlete.nationality, 0) + athlete.finalScore\n",
    "\n",
    "pointsByCountry = sorted(country_scores.items(), key=lambda x: x[1], reverse=True)\n",
    "bestCountry, bestScore = pointsByCountry[0]\n",
    "print(f\"{bestCountry} - Total score: {bestScore}\")\n"
   ]
  },
  {
   "cell_type": "markdown",
   "metadata": {},
   "source": [
    "#### Exercise 2 (adapted from Computer Sciences exam 23/06/2017)\n",
    "\n",
    "You are asked to implement a program for managing the database of a city public transportation center.\n",
    "The information is stored in a ﬁle whose name is passed as command line argument. Each line in the\n",
    "ﬁle contains: the ID number of the public transport bus, the number of the route the bus serves, the\n",
    "geometric coordinates in meters (abscissa and ordinate, i.e., x-axis and y-axis) and the time in seconds\n",
    "(all the time values belong to the same day) when the bus is checked. For example, the ﬁle can contain:"
   ]
  },
  {
   "cell_type": "code",
   "execution_count": 76,
   "metadata": {},
   "outputs": [
    {
     "name": "stdout",
     "output_type": "stream",
     "text": [
      "1976 - Total Distance: 2195.0\n",
      "4 - Average Speed: 1.6884615384615385\n"
     ]
    }
   ],
   "source": [
    "import numpy as np\n",
    "\n",
    "filename = \"transport.txt\"\n",
    "data = np.empty((0,5), dtype= np.int32)\n",
    "\n",
    "try:\n",
    "    with open(filename, \"r\") as file:\n",
    "        for line in file:\n",
    "            data = np.vstack((data, \n",
    "                       np.array(line.strip().split(\" \"), dtype=np.int32)))\n",
    "except IOError:\n",
    "    print(\"File not found error.\")\n",
    "except Exception as e:\n",
    "    print(f\"An error occurred: {e}\")\n",
    "\n",
    "def total_distance_bus(data, busid):\n",
    "    busData: np.array = data[data[:,0]==busid, 2:4]\n",
    "    distance = 0.0\n",
    "    for i in range(0, busData.shape[0]-1):\n",
    "        distance += np.sqrt((busData[i,0] - busData[i+1,0])**2 + (busData[i,1] - busData[i+1,1])**2)\n",
    "    return distance\n",
    "\n",
    "def total_time_bus(data, busid):\n",
    "    busData: np.array = data[data[:,0]==busid, 4]\n",
    "    return max(busData)-min(busData)\n",
    "\n",
    "def average_speed(data, lineid):\n",
    "    lineData: np.array = data[data[:,1]==lineid,:]\n",
    "    buses = np.unique(lineData[:,0])\n",
    "    distance = 0.0\n",
    "    time = 0.0\n",
    "    for busid in buses:\n",
    "        distance+=total_distance_bus(data, busid)\n",
    "        time+=total_time_bus(data, busid)\n",
    "    return distance/time\n",
    "\n",
    "print(f\"{1976} - Total Distance: {total_distance_bus(data, 1976)}\")\n",
    "print(f\"{4} - Average Speed: {average_speed(data, 4)}\")"
   ]
  },
  {
   "cell_type": "markdown",
   "metadata": {},
   "source": [
    "# Laboratory 1 - part II (numpy)"
   ]
  },
  {
   "cell_type": "code",
   "execution_count": 77,
   "metadata": {},
   "outputs": [],
   "source": [
    "import numpy as np"
   ]
  },
  {
   "cell_type": "markdown",
   "metadata": {},
   "source": [
    "#### Exercise 7\n",
    "a. Write a function that, given two integers m and n, returns a m × n numpy 2D array with dtype numpy.float64 whose element in position i, j has value i ∗ j.\n",
    "Example of return value for m = 3, n = 4:\n",
    "array([[0., 0., 0., 0.],\n",
    "    [0., 1., 2., 3.],\n",
    "    [0., 2., 4., 6.]])"
   ]
  },
  {
   "cell_type": "code",
   "execution_count": 78,
   "metadata": {},
   "outputs": [],
   "source": [
    "def ex7a(m,n):\n",
    "    vr = np.reshape(np.arange(n), (1, n))\n",
    "    vc = np.reshape(np.arange(m), (m, 1))\n",
    "    return vc@vr\n",
    "\n",
    "matrix = ex7a(5,6)\n",
    "matrix +=1\n"
   ]
  },
  {
   "cell_type": "markdown",
   "metadata": {},
   "source": [
    "b. Write a function that, given a 2D numpy array, computes a normalized version of the array, where the\n",
    "normalization consists in scaling all the array columns so that the sum of the elements of each column is\n",
    "one (assume that no column has a sum of elements that is zero, i.e., there’s no need to check for division\n",
    "by zero). The function should not modify the input array, but should return a new array."
   ]
  },
  {
   "cell_type": "code",
   "execution_count": 79,
   "metadata": {},
   "outputs": [
    {
     "name": "stdout",
     "output_type": "stream",
     "text": [
      "[[0.2        0.06666667 0.04       0.02857143 0.02222222 0.01818182]\n",
      " [0.2        0.13333333 0.12       0.11428571 0.11111111 0.10909091]\n",
      " [0.2        0.2        0.2        0.2        0.2        0.2       ]\n",
      " [0.2        0.26666667 0.28       0.28571429 0.28888889 0.29090909]\n",
      " [0.2        0.33333333 0.36       0.37142857 0.37777778 0.38181818]]\n"
     ]
    }
   ],
   "source": [
    "\n",
    "def ex7b(matrix):\n",
    "    return matrix/np.reshape(np.sum(matrix, 0), (1, matrix.shape[1]))\n",
    "\n",
    "print(ex7b(matrix))"
   ]
  },
  {
   "cell_type": "markdown",
   "metadata": {},
   "source": [
    "c. Repeat the excercise b. but normalize the matrix rows so that the elements of each row sum up to one"
   ]
  },
  {
   "cell_type": "code",
   "execution_count": 80,
   "metadata": {},
   "outputs": [
    {
     "name": "stdout",
     "output_type": "stream",
     "text": [
      "[[0.16666667 0.16666667 0.16666667 0.16666667 0.16666667 0.16666667]\n",
      " [0.04761905 0.0952381  0.14285714 0.19047619 0.23809524 0.28571429]\n",
      " [0.02777778 0.08333333 0.13888889 0.19444444 0.25       0.30555556]\n",
      " [0.01960784 0.07843137 0.1372549  0.19607843 0.25490196 0.31372549]\n",
      " [0.01515152 0.07575758 0.13636364 0.1969697  0.25757576 0.31818182]]\n"
     ]
    }
   ],
   "source": [
    "def ex7c(matrix):\n",
    "    return matrix/np.reshape(np.sum(matrix, 1), (matrix.shape[0],1))\n",
    "\n",
    "print(ex7c(matrix))\n",
    "matrix-=2 "
   ]
  },
  {
   "cell_type": "markdown",
   "metadata": {},
   "source": [
    "d. Write a function that, given a numpy array of any shape, returns an array with the same shape but\n",
    "all negative elements set to 0. The function should not modify the original array."
   ]
  },
  {
   "cell_type": "code",
   "execution_count": 81,
   "metadata": {},
   "outputs": [
    {
     "name": "stdout",
     "output_type": "stream",
     "text": [
      "[[-1 -1 -1 -1 -1 -1]\n",
      " [-1  0  1  2  3  4]\n",
      " [-1  1  3  5  7  9]\n",
      " [-1  2  5  8 11 14]\n",
      " [-1  3  7 11 15 19]]\n",
      "[[ 0  0  0  0  0  0]\n",
      " [ 0  0  1  2  3  4]\n",
      " [ 0  1  3  5  7  9]\n",
      " [ 0  2  5  8 11 14]\n",
      " [ 0  3  7 11 15 19]]\n"
     ]
    }
   ],
   "source": [
    "print(matrix)\n",
    "def ex7d(matrix):\n",
    "    nm = np.copy(matrix)\n",
    "    nm[nm <0 ]=0\n",
    "    return nm\n",
    "\n",
    "nm=ex7d(matrix)\n",
    "print(nm)"
   ]
  },
  {
   "cell_type": "markdown",
   "metadata": {},
   "source": [
    "e. Write a function that computes the sum of the elements of a product of two matrices"
   ]
  },
  {
   "cell_type": "code",
   "execution_count": 87,
   "metadata": {},
   "outputs": [
    {
     "name": "stdout",
     "output_type": "stream",
     "text": [
      "1370\n"
     ]
    }
   ],
   "source": [
    "def ex7e(m1, m2):\n",
    "    return np.sum(m1*m2)\n",
    "\n",
    "print(ex7e(matrix, nm))"
   ]
  },
  {
   "cell_type": "markdown",
   "metadata": {},
   "source": [
    "#### Exercise 8\n",
    "Solve the ﬁrst part (ﬁnal ranking question) of Excercise 1 using numpy arrays to represent the scores\n",
    "(ignore the best country question). Assume the number of competitors is given in the ﬁrst row of the\n",
    "scores ﬁle.\n",
    "Suggestion: You can store the competitors’ names in a list and the scores in a matrix, i.e. a 2D numpy\n",
    "array, and use array operations to compute the actual score of each competitor and to ﬁnd the best\n",
    "three competitors. For the last point, check the documentation on numpy.sort and numpy.argsort for\n",
    "a simple way to extract the best three competitors."
   ]
  },
  {
   "cell_type": "code",
   "execution_count": 171,
   "metadata": {},
   "outputs": [
    {
     "name": "stdout",
     "output_type": "stream",
     "text": [
      "[28.3 27.2 25.8 27.9 26.4]\n",
      "[0 3 1 4 2]\n",
      "Final ranking:\n",
      "1. Donald Duck - Score: 28.3\n",
      "2. Daffy Duck - Score: 27.9\n",
      "3. Mickey Mouse - Score: 27.2\n"
     ]
    }
   ],
   "source": [
    "from typing import List\n",
    "import numpy as np\n",
    "\n",
    "filename = \"score.txt\"\n",
    "\n",
    "athletes_info: List[List[str]] = []\n",
    "athletes_scores = np.zeros((1,5)) # Partire da None e poi creare l'array al primo inserimento\n",
    "\n",
    "try:\n",
    "    with open(filename, \"r\") as file:\n",
    "        for line in file: \n",
    "            if line.strip()!=\"\":\n",
    "                parts = line.strip().split(\" \", maxsplit=3)\n",
    "                athletes_info.append(parts[:3])\n",
    "                new_scores = [float(x) for x in parts[3].split(\" \")]\n",
    "                athletes_scores = np.vstack((athletes_scores, new_scores))\n",
    "except IOError:\n",
    "    print(\"File not found error.\")\n",
    "except Exception as e:\n",
    "    print(f\"An error occurred: {e}\")\n",
    "\n",
    "# Sort and print top 3 athletes\n",
    "best_scores = np.sum(athletes_scores[:,1:4], 1, keepdims=True)\n",
    "best_scores = best_scores[best_scores>0]\n",
    "sorted_index = np.argsort(best_scores, stable=True)[::-1]\n",
    "\n",
    "print(best_scores)\n",
    "print(sorted_index)\n",
    "\n",
    "print(\"Final ranking:\")\n",
    "for pos, i  in enumerate(sorted_index[:3], 1):\n",
    "    print(f\"{pos}. {athletes_info[i][0]} {athletes_info[i][1]} - Score: {best_scores[i]}\")"
   ]
  }
 ],
 "metadata": {
  "kernelspec": {
   "display_name": ".venv",
   "language": "python",
   "name": "python3"
  },
  "language_info": {
   "codemirror_mode": {
    "name": "ipython",
    "version": 3
   },
   "file_extension": ".py",
   "mimetype": "text/x-python",
   "name": "python",
   "nbconvert_exporter": "python",
   "pygments_lexer": "ipython3",
   "version": "3.13.1"
  }
 },
 "nbformat": 4,
 "nbformat_minor": 2
}
